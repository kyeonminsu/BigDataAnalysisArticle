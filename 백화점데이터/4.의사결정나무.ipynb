{
 "cells": [
  {
   "cell_type": "code",
   "execution_count": 5,
   "id": "e34888fc",
   "metadata": {},
   "outputs": [],
   "source": [
    "import pandas as pd\n",
    "from sklearn.preprocessing import LabelEncoder\n",
    "from sklearn.tree import DecisionTreeClassifier"
   ]
  },
  {
   "cell_type": "code",
   "execution_count": 10,
   "id": "95260416",
   "metadata": {},
   "outputs": [],
   "source": [
    "X_train_path = 'data/X_train.csv'\n",
    "X_test_path = 'data/X_test.csv'\n",
    "y_train_path = 'data/y_train.csv'\n",
    " \n",
    "X_train = pd.read_csv(X_train_path,encoding='cp949')\n",
    "y_train = pd.read_csv(y_train_path, encoding='cp949')\n",
    "X_test = pd.read_csv(X_test_path, encoding='cp949')"
   ]
  },
  {
   "cell_type": "code",
   "execution_count": 11,
   "id": "a351373c",
   "metadata": {},
   "outputs": [],
   "source": [
    "#cust_id 컬럼 삭제\n",
    "X_train=X_train.drop('cust_id', axis=1)\n",
    "y_train=y_train.drop('cust_id', axis=1)\n",
    "X_test_id = X_test.loc[:,['cust_id']]\n",
    "X_test=X_test.drop('cust_id', axis=1)"
   ]
  },
  {
   "cell_type": "code",
   "execution_count": 13,
   "id": "e2735d4d",
   "metadata": {},
   "outputs": [],
   "source": [
    "X_train.loc[:,['주구매상품','주구매지점']]=X_train.loc[:,['주구매상품','주구매지점']].apply(LabelEncoder().fit_transform)\n",
    "X_test.loc[:,['주구매상품','주구매지점']]=X_test.loc[:,['주구매상품','주구매지점']].apply(LabelEncoder().fit_transform)"
   ]
  },
  {
   "cell_type": "code",
   "execution_count": 14,
   "id": "a2ed360b",
   "metadata": {},
   "outputs": [],
   "source": [
    "X_train[['환불금액']]=X_train[['환불금액']].fillna(0)\n",
    "X_test[['환불금액']]=X_test[['환불금액']].fillna(0)"
   ]
  },
  {
   "cell_type": "code",
   "execution_count": 15,
   "id": "fe2732da",
   "metadata": {},
   "outputs": [],
   "source": [
    "#정규화\n",
    "def minmax_norm(df):\n",
    "    return (df - df.min()) / ( df.max() - df.min())\n",
    "X_train=minmax_norm(X_train)\n",
    "X_test=minmax_norm(X_test)"
   ]
  },
  {
   "cell_type": "code",
   "execution_count": 19,
   "id": "f6aa5f55",
   "metadata": {},
   "outputs": [
    {
     "name": "stdout",
     "output_type": "stream",
     "text": [
      "0.7594285714285715\n"
     ]
    }
   ],
   "source": [
    "model = DecisionTreeClassifier(random_state=0,max_depth=10)\n",
    "model.fit(X_train,y_train)\n",
    "print(model.score(X_train,y_train))"
   ]
  },
  {
   "cell_type": "code",
   "execution_count": 24,
   "id": "19739165",
   "metadata": {},
   "outputs": [
    {
     "name": "stdout",
     "output_type": "stream",
     "text": [
      "0       0.000000\n",
      "1       0.193548\n",
      "2       0.000000\n",
      "3       0.000000\n",
      "4       0.238532\n",
      "          ...   \n",
      "2477    0.587629\n",
      "2478    0.396040\n",
      "2479    1.000000\n",
      "2480    0.478723\n",
      "2481    1.000000\n",
      "Name: 1, Length: 2482, dtype: float64\n"
     ]
    }
   ],
   "source": [
    "pred = model.predict_proba(X_test)\n",
    "pred=pd.DataFrame(pred)\n",
    "pred=pred.iloc[:,1]\n",
    "print(pred)"
   ]
  },
  {
   "cell_type": "code",
   "execution_count": 30,
   "id": "35acc327",
   "metadata": {},
   "outputs": [
    {
     "data": {
      "text/html": [
       "<div>\n",
       "<style scoped>\n",
       "    .dataframe tbody tr th:only-of-type {\n",
       "        vertical-align: middle;\n",
       "    }\n",
       "\n",
       "    .dataframe tbody tr th {\n",
       "        vertical-align: top;\n",
       "    }\n",
       "\n",
       "    .dataframe thead th {\n",
       "        text-align: right;\n",
       "    }\n",
       "</style>\n",
       "<table border=\"1\" class=\"dataframe\">\n",
       "  <thead>\n",
       "    <tr style=\"text-align: right;\">\n",
       "      <th></th>\n",
       "      <th>cust_id</th>\n",
       "      <th>1</th>\n",
       "    </tr>\n",
       "  </thead>\n",
       "  <tbody>\n",
       "    <tr>\n",
       "      <th>0</th>\n",
       "      <td>3500</td>\n",
       "      <td>0.000000</td>\n",
       "    </tr>\n",
       "    <tr>\n",
       "      <th>1</th>\n",
       "      <td>3501</td>\n",
       "      <td>0.193548</td>\n",
       "    </tr>\n",
       "    <tr>\n",
       "      <th>2</th>\n",
       "      <td>3502</td>\n",
       "      <td>0.000000</td>\n",
       "    </tr>\n",
       "    <tr>\n",
       "      <th>3</th>\n",
       "      <td>3503</td>\n",
       "      <td>0.000000</td>\n",
       "    </tr>\n",
       "    <tr>\n",
       "      <th>4</th>\n",
       "      <td>3504</td>\n",
       "      <td>0.238532</td>\n",
       "    </tr>\n",
       "    <tr>\n",
       "      <th>...</th>\n",
       "      <td>...</td>\n",
       "      <td>...</td>\n",
       "    </tr>\n",
       "    <tr>\n",
       "      <th>2477</th>\n",
       "      <td>5977</td>\n",
       "      <td>0.587629</td>\n",
       "    </tr>\n",
       "    <tr>\n",
       "      <th>2478</th>\n",
       "      <td>5978</td>\n",
       "      <td>0.396040</td>\n",
       "    </tr>\n",
       "    <tr>\n",
       "      <th>2479</th>\n",
       "      <td>5979</td>\n",
       "      <td>1.000000</td>\n",
       "    </tr>\n",
       "    <tr>\n",
       "      <th>2480</th>\n",
       "      <td>5980</td>\n",
       "      <td>0.478723</td>\n",
       "    </tr>\n",
       "    <tr>\n",
       "      <th>2481</th>\n",
       "      <td>5981</td>\n",
       "      <td>1.000000</td>\n",
       "    </tr>\n",
       "  </tbody>\n",
       "</table>\n",
       "<p>2482 rows × 2 columns</p>\n",
       "</div>"
      ],
      "text/plain": [
       "      cust_id         1\n",
       "0        3500  0.000000\n",
       "1        3501  0.193548\n",
       "2        3502  0.000000\n",
       "3        3503  0.000000\n",
       "4        3504  0.238532\n",
       "...       ...       ...\n",
       "2477     5977  0.587629\n",
       "2478     5978  0.396040\n",
       "2479     5979  1.000000\n",
       "2480     5980  0.478723\n",
       "2481     5981  1.000000\n",
       "\n",
       "[2482 rows x 2 columns]"
      ]
     },
     "execution_count": 30,
     "metadata": {},
     "output_type": "execute_result"
    }
   ],
   "source": [
    "y_test='1234.csv'\n",
    "ans=pd.concat([X_test_id,pred], axis=1)\n",
    "ans.to_csv(y_test,index=False)\n",
    "ans"
   ]
  },
  {
   "cell_type": "code",
   "execution_count": 26,
   "id": "78a8b6b4",
   "metadata": {},
   "outputs": [],
   "source": [
    "#의사결정나무 자세한 속성을 건드려서 정확도를 높여야함.\n",
    "from sklearn.metrics import accuracy_score"
   ]
  },
  {
   "cell_type": "code",
   "execution_count": null,
   "id": "54572e65",
   "metadata": {},
   "outputs": [],
   "source": []
  }
 ],
 "metadata": {
  "kernelspec": {
   "display_name": "Python 3",
   "language": "python",
   "name": "python3"
  },
  "language_info": {
   "codemirror_mode": {
    "name": "ipython",
    "version": 3
   },
   "file_extension": ".py",
   "mimetype": "text/x-python",
   "name": "python",
   "nbconvert_exporter": "python",
   "pygments_lexer": "ipython3",
   "version": "3.6.13"
  }
 },
 "nbformat": 4,
 "nbformat_minor": 5
}
