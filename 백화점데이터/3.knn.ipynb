{
 "cells": [
  {
   "cell_type": "code",
   "execution_count": 5,
   "id": "3a0dec04",
   "metadata": {},
   "outputs": [],
   "source": [
    "import pandas as pd\n",
    "import numpy as np\n",
    "from sklearn.neighbors import KNeighborsClassifier\n",
    "from sklearn.preprocessing import LabelEncoder"
   ]
  },
  {
   "cell_type": "code",
   "execution_count": 6,
   "id": "95d2098f",
   "metadata": {},
   "outputs": [],
   "source": [
    "X_train_path = 'data/X_train.csv'\n",
    "X_test_path = 'data/X_test.csv'\n",
    "y_train_path = 'data/y_train.csv'\n",
    "\n",
    "X_train = pd.read_csv(X_train_path,encoding='cp949')\n",
    "y_train = pd.read_csv(y_train_path,encoding='cp949')\n",
    "X_test = pd.read_csv(X_test_path,encoding='cp949')"
   ]
  },
  {
   "cell_type": "code",
   "execution_count": 7,
   "id": "28a4e803",
   "metadata": {},
   "outputs": [],
   "source": [
    "#cust_id 컬럼 삭제\n",
    "X_train=X_train.drop('cust_id', axis=1)\n",
    "y_train=y_train.drop('cust_id', axis=1)\n",
    "X_test_id = X_test.loc[:,['cust_id']]\n",
    "X_test=X_test.drop('cust_id', axis=1)"
   ]
  },
  {
   "cell_type": "code",
   "execution_count": 8,
   "id": "90cf251e",
   "metadata": {},
   "outputs": [],
   "source": [
    "# loc는 컬럼명을 사용\n",
    "#iloc는 인덱스 번호(숫자) 사용\n",
    "X_train.loc[:,['주구매상품','주구매지점']]=X_train.loc[:,['주구매상품','주구매지점']].apply(LabelEncoder().fit_transform)\n",
    "X_test.loc[:,['주구매상품','주구매지점']]=X_test.loc[:,['주구매상품','주구매지점']].apply(LabelEncoder().fit_transform)"
   ]
  },
  {
   "cell_type": "code",
   "execution_count": 9,
   "id": "e3a14b6c",
   "metadata": {},
   "outputs": [],
   "source": [
    "X_train[['환불금액']]=X_train[['환불금액']].fillna(0)\n",
    "X_test[['환불금액']]=X_test[['환불금액']].fillna(0)"
   ]
  },
  {
   "cell_type": "code",
   "execution_count": 10,
   "id": "457c29c2",
   "metadata": {},
   "outputs": [],
   "source": [
    "#정규화\n",
    "def minmax_norm(df):\n",
    "    return (df - df.min()) / ( df.max() - df.min())\n",
    "X_train=minmax_norm(X_train)\n",
    "X_test=minmax_norm(X_test)"
   ]
  },
  {
   "cell_type": "code",
   "execution_count": 11,
   "id": "b25b9477",
   "metadata": {},
   "outputs": [],
   "source": [
    "model = KNeighborsClassifier(n_neighbors=3)"
   ]
  },
  {
   "cell_type": "code",
   "execution_count": 12,
   "id": "eee85af8",
   "metadata": {},
   "outputs": [
    {
     "name": "stderr",
     "output_type": "stream",
     "text": [
      "D:\\Anaconda\\envs\\minsu\\lib\\site-packages\\sklearn\\neighbors\\_classification.py:179: DataConversionWarning: A column-vector y was passed when a 1d array was expected. Please change the shape of y to (n_samples,), for example using ravel().\n",
      "  return self._fit(X, y)\n"
     ]
    },
    {
     "data": {
      "text/plain": [
       "KNeighborsClassifier(n_neighbors=3)"
      ]
     },
     "execution_count": 12,
     "metadata": {},
     "output_type": "execute_result"
    }
   ],
   "source": [
    "model.fit(X_train,y_train)"
   ]
  },
  {
   "cell_type": "code",
   "execution_count": 13,
   "id": "db53751b",
   "metadata": {},
   "outputs": [
    {
     "data": {
      "text/plain": [
       "0.782"
      ]
     },
     "execution_count": 13,
     "metadata": {},
     "output_type": "execute_result"
    }
   ],
   "source": [
    "model.score(X_train,y_train)"
   ]
  },
  {
   "cell_type": "code",
   "execution_count": null,
   "id": "fcd2675b",
   "metadata": {},
   "outputs": [],
   "source": []
  }
 ],
 "metadata": {
  "kernelspec": {
   "display_name": "Python 3",
   "language": "python",
   "name": "python3"
  },
  "language_info": {
   "codemirror_mode": {
    "name": "ipython",
    "version": 3
   },
   "file_extension": ".py",
   "mimetype": "text/x-python",
   "name": "python",
   "nbconvert_exporter": "python",
   "pygments_lexer": "ipython3",
   "version": "3.6.13"
  }
 },
 "nbformat": 4,
 "nbformat_minor": 5
}
