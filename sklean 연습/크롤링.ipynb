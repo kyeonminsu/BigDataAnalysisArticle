{
 "cells": [
  {
   "cell_type": "code",
   "execution_count": 6,
   "id": "50780ff8",
   "metadata": {},
   "outputs": [],
   "source": [
    "import requests\n",
    "from bs4 import BeautifulSoup as bs"
   ]
  },
  {
   "cell_type": "code",
   "execution_count": 7,
   "id": "e04bd90b",
   "metadata": {},
   "outputs": [],
   "source": [
    "url = 'https://movie.naver.com/movie/sdb/rank/rmovie.nhn?sel=cur&date=20210503'"
   ]
  },
  {
   "cell_type": "code",
   "execution_count": 8,
   "id": "28e25213",
   "metadata": {},
   "outputs": [],
   "source": [
    "data = requests.get(url)\n",
    "soup = bs(data.text)"
   ]
  },
  {
   "cell_type": "code",
   "execution_count": 11,
   "id": "1b2905ba",
   "metadata": {},
   "outputs": [
    {
     "data": {
      "text/plain": [
       "[<meta content=\"text/html; charset=utf-8\" http-equiv=\"Content-Type\"/>,\n",
       " <meta content=\"IE=edge\" http-equiv=\"X-UA-Compatible\"/>,\n",
       " <meta content=\"http://imgmovie.naver.com/today/naverme/naverme_profile.jpg\" property=\"me2:image\">\n",
       " <meta content=\"네이버영화 \" property=\"me2:post_tag\">\n",
       " <meta content=\"네이버영화\" property=\"me2:category1\"/>\n",
       " <meta content=\"\" property=\"me2:category2\"/>\n",
       " <meta content=\"랭킹 : 네이버 영화\" property=\"og:title\"/>\n",
       " <meta content=\"영화, 영화인, 예매, 박스오피스 랭킹 정보 제공\" property=\"og:description\"/>\n",
       " <meta content=\"article\" property=\"og:type\"/>\n",
       " <meta content=\"https://movie.naver.com/movie/sdb/rank/rmovie.nhn?sel=cur&amp;date=20210503\" property=\"og:url\"/>\n",
       " <meta content=\"http://static.naver.net/m/movie/icons/OG_270_270.png\" property=\"og:image\"/><!-- http://static.naver.net/m/movie/im/navermovie.jpg -->\n",
       " <meta content=\"http://imgmovie.naver.com/today/naverme/naverme_profile.jpg\" property=\"og:article:thumbnailUrl\"/>\n",
       " <meta content=\"네이버 영화\" property=\"og:article:author\"/>\n",
       " <meta content=\"https://movie.naver.com/\" property=\"og:article:author:url\"/>\n",
       " <link href=\"https://ssl.pstatic.net/static/m/movie/icons/naver_movie_favicon.ico\" rel=\"shortcut icon\" type=\"image/x-icon\"/>\n",
       " <title>랭킹 : 네이버 영화</title>\n",
       " <link href=\"/common/css/movie_tablet.css?20210615164931\" rel=\"stylesheet\" type=\"text/css\"/>\n",
       " <link href=\"/common/css/common.css?20210615164931\" rel=\"stylesheet\" type=\"text/css\"/>\n",
       " <link href=\"/common/css/layout.css?20210615164931\" rel=\"stylesheet\" type=\"text/css\"/>\n",
       " <link href=\"/common/css/old_default.css?20210615164931\" rel=\"stylesheet\" type=\"text/css\"/>\n",
       " <link href=\"/common/css/old_layout.css?20210615164931\" rel=\"stylesheet\" type=\"text/css\"/>\n",
       " <link href=\"/common/css/old_common.css?20210615164931\" rel=\"stylesheet\" type=\"text/css\"/>\n",
       " <link href=\"/common/css/old_super_db.css?20210615164931\" rel=\"stylesheet\" type=\"text/css\"/>\n",
       " <script src=\"/common/js/default-min.js\" type=\"text/javascript\"></script>\n",
       " </meta></meta>,\n",
       " <meta content=\"네이버영화 \" property=\"me2:post_tag\">\n",
       " <meta content=\"네이버영화\" property=\"me2:category1\"/>\n",
       " <meta content=\"\" property=\"me2:category2\"/>\n",
       " <meta content=\"랭킹 : 네이버 영화\" property=\"og:title\"/>\n",
       " <meta content=\"영화, 영화인, 예매, 박스오피스 랭킹 정보 제공\" property=\"og:description\"/>\n",
       " <meta content=\"article\" property=\"og:type\"/>\n",
       " <meta content=\"https://movie.naver.com/movie/sdb/rank/rmovie.nhn?sel=cur&amp;date=20210503\" property=\"og:url\"/>\n",
       " <meta content=\"http://static.naver.net/m/movie/icons/OG_270_270.png\" property=\"og:image\"/><!-- http://static.naver.net/m/movie/im/navermovie.jpg -->\n",
       " <meta content=\"http://imgmovie.naver.com/today/naverme/naverme_profile.jpg\" property=\"og:article:thumbnailUrl\"/>\n",
       " <meta content=\"네이버 영화\" property=\"og:article:author\"/>\n",
       " <meta content=\"https://movie.naver.com/\" property=\"og:article:author:url\"/>\n",
       " <link href=\"https://ssl.pstatic.net/static/m/movie/icons/naver_movie_favicon.ico\" rel=\"shortcut icon\" type=\"image/x-icon\"/>\n",
       " <title>랭킹 : 네이버 영화</title>\n",
       " <link href=\"/common/css/movie_tablet.css?20210615164931\" rel=\"stylesheet\" type=\"text/css\"/>\n",
       " <link href=\"/common/css/common.css?20210615164931\" rel=\"stylesheet\" type=\"text/css\"/>\n",
       " <link href=\"/common/css/layout.css?20210615164931\" rel=\"stylesheet\" type=\"text/css\"/>\n",
       " <link href=\"/common/css/old_default.css?20210615164931\" rel=\"stylesheet\" type=\"text/css\"/>\n",
       " <link href=\"/common/css/old_layout.css?20210615164931\" rel=\"stylesheet\" type=\"text/css\"/>\n",
       " <link href=\"/common/css/old_common.css?20210615164931\" rel=\"stylesheet\" type=\"text/css\"/>\n",
       " <link href=\"/common/css/old_super_db.css?20210615164931\" rel=\"stylesheet\" type=\"text/css\"/>\n",
       " <script src=\"/common/js/default-min.js\" type=\"text/javascript\"></script>\n",
       " </meta>,\n",
       " <meta content=\"네이버영화\" property=\"me2:category1\"/>]"
      ]
     },
     "execution_count": 11,
     "metadata": {},
     "output_type": "execute_result"
    }
   ],
   "source": [
    "soup.head()[:5]"
   ]
  },
  {
   "cell_type": "code",
   "execution_count": 12,
   "id": "e911313a",
   "metadata": {},
   "outputs": [
    {
     "data": {
      "text/plain": [
       "[<meta content=\"text/html; charset=utf-8\" http-equiv=\"Content-Type\"/>,\n",
       " <meta content=\"IE=edge\" http-equiv=\"X-UA-Compatible\"/>,\n",
       " <meta content=\"http://imgmovie.naver.com/today/naverme/naverme_profile.jpg\" property=\"me2:image\">\n",
       " <meta content=\"네이버영화 \" property=\"me2:post_tag\">\n",
       " <meta content=\"네이버영화\" property=\"me2:category1\"/>\n",
       " <meta content=\"\" property=\"me2:category2\"/>\n",
       " <meta content=\"랭킹 : 네이버 영화\" property=\"og:title\"/>\n",
       " <meta content=\"영화, 영화인, 예매, 박스오피스 랭킹 정보 제공\" property=\"og:description\"/>\n",
       " <meta content=\"article\" property=\"og:type\"/>\n",
       " <meta content=\"https://movie.naver.com/movie/sdb/rank/rmovie.nhn?sel=cur&amp;date=20210503\" property=\"og:url\"/>\n",
       " <meta content=\"http://static.naver.net/m/movie/icons/OG_270_270.png\" property=\"og:image\"/><!-- http://static.naver.net/m/movie/im/navermovie.jpg -->\n",
       " <meta content=\"http://imgmovie.naver.com/today/naverme/naverme_profile.jpg\" property=\"og:article:thumbnailUrl\"/>\n",
       " <meta content=\"네이버 영화\" property=\"og:article:author\"/>\n",
       " <meta content=\"https://movie.naver.com/\" property=\"og:article:author:url\"/>\n",
       " <link href=\"https://ssl.pstatic.net/static/m/movie/icons/naver_movie_favicon.ico\" rel=\"shortcut icon\" type=\"image/x-icon\"/>\n",
       " <title>랭킹 : 네이버 영화</title>\n",
       " <link href=\"/common/css/movie_tablet.css?20210615164931\" rel=\"stylesheet\" type=\"text/css\"/>\n",
       " <link href=\"/common/css/common.css?20210615164931\" rel=\"stylesheet\" type=\"text/css\"/>\n",
       " <link href=\"/common/css/layout.css?20210615164931\" rel=\"stylesheet\" type=\"text/css\"/>\n",
       " <link href=\"/common/css/old_default.css?20210615164931\" rel=\"stylesheet\" type=\"text/css\"/>\n",
       " <link href=\"/common/css/old_layout.css?20210615164931\" rel=\"stylesheet\" type=\"text/css\"/>\n",
       " <link href=\"/common/css/old_common.css?20210615164931\" rel=\"stylesheet\" type=\"text/css\"/>\n",
       " <link href=\"/common/css/old_super_db.css?20210615164931\" rel=\"stylesheet\" type=\"text/css\"/>\n",
       " <script src=\"/common/js/default-min.js\" type=\"text/javascript\"></script>\n",
       " </meta></meta>,\n",
       " <meta content=\"네이버영화 \" property=\"me2:post_tag\">\n",
       " <meta content=\"네이버영화\" property=\"me2:category1\"/>\n",
       " <meta content=\"\" property=\"me2:category2\"/>\n",
       " <meta content=\"랭킹 : 네이버 영화\" property=\"og:title\"/>\n",
       " <meta content=\"영화, 영화인, 예매, 박스오피스 랭킹 정보 제공\" property=\"og:description\"/>\n",
       " <meta content=\"article\" property=\"og:type\"/>\n",
       " <meta content=\"https://movie.naver.com/movie/sdb/rank/rmovie.nhn?sel=cur&amp;date=20210503\" property=\"og:url\"/>\n",
       " <meta content=\"http://static.naver.net/m/movie/icons/OG_270_270.png\" property=\"og:image\"/><!-- http://static.naver.net/m/movie/im/navermovie.jpg -->\n",
       " <meta content=\"http://imgmovie.naver.com/today/naverme/naverme_profile.jpg\" property=\"og:article:thumbnailUrl\"/>\n",
       " <meta content=\"네이버 영화\" property=\"og:article:author\"/>\n",
       " <meta content=\"https://movie.naver.com/\" property=\"og:article:author:url\"/>\n",
       " <link href=\"https://ssl.pstatic.net/static/m/movie/icons/naver_movie_favicon.ico\" rel=\"shortcut icon\" type=\"image/x-icon\"/>\n",
       " <title>랭킹 : 네이버 영화</title>\n",
       " <link href=\"/common/css/movie_tablet.css?20210615164931\" rel=\"stylesheet\" type=\"text/css\"/>\n",
       " <link href=\"/common/css/common.css?20210615164931\" rel=\"stylesheet\" type=\"text/css\"/>\n",
       " <link href=\"/common/css/layout.css?20210615164931\" rel=\"stylesheet\" type=\"text/css\"/>\n",
       " <link href=\"/common/css/old_default.css?20210615164931\" rel=\"stylesheet\" type=\"text/css\"/>\n",
       " <link href=\"/common/css/old_layout.css?20210615164931\" rel=\"stylesheet\" type=\"text/css\"/>\n",
       " <link href=\"/common/css/old_common.css?20210615164931\" rel=\"stylesheet\" type=\"text/css\"/>\n",
       " <link href=\"/common/css/old_super_db.css?20210615164931\" rel=\"stylesheet\" type=\"text/css\"/>\n",
       " <script src=\"/common/js/default-min.js\" type=\"text/javascript\"></script>\n",
       " </meta>,\n",
       " <meta content=\"네이버영화\" property=\"me2:category1\"/>,\n",
       " <meta content=\"\" property=\"me2:category2\"/>,\n",
       " <meta content=\"랭킹 : 네이버 영화\" property=\"og:title\"/>,\n",
       " <meta content=\"영화, 영화인, 예매, 박스오피스 랭킹 정보 제공\" property=\"og:description\"/>,\n",
       " <meta content=\"article\" property=\"og:type\"/>,\n",
       " <meta content=\"https://movie.naver.com/movie/sdb/rank/rmovie.nhn?sel=cur&amp;date=20210503\" property=\"og:url\"/>,\n",
       " <meta content=\"http://static.naver.net/m/movie/icons/OG_270_270.png\" property=\"og:image\"/>,\n",
       " <meta content=\"http://imgmovie.naver.com/today/naverme/naverme_profile.jpg\" property=\"og:article:thumbnailUrl\"/>,\n",
       " <meta content=\"네이버 영화\" property=\"og:article:author\"/>,\n",
       " <meta content=\"https://movie.naver.com/\" property=\"og:article:author:url\"/>]"
      ]
     },
     "execution_count": 12,
     "metadata": {},
     "output_type": "execute_result"
    }
   ],
   "source": [
    "meta = soup.find_all('meta')\n",
    "meta"
   ]
  },
  {
   "cell_type": "code",
   "execution_count": null,
   "id": "62c3f752",
   "metadata": {},
   "outputs": [],
   "source": []
  }
 ],
 "metadata": {
  "kernelspec": {
   "display_name": "Python 3",
   "language": "python",
   "name": "python3"
  },
  "language_info": {
   "codemirror_mode": {
    "name": "ipython",
    "version": 3
   },
   "file_extension": ".py",
   "mimetype": "text/x-python",
   "name": "python",
   "nbconvert_exporter": "python",
   "pygments_lexer": "ipython3",
   "version": "3.6.13"
  }
 },
 "nbformat": 4,
 "nbformat_minor": 5
}
